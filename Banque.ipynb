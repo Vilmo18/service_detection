{
 "cells": [
  {
   "attachments": {},
   "cell_type": "markdown",
   "metadata": {},
   "source": [
    "# Modélisation par regréssion Logistique"
   ]
  },
  {
   "attachments": {},
   "cell_type": "markdown",
   "metadata": {},
   "source": [
    "Etape 1 : Importation des bibliothèques"
   ]
  },
  {
   "cell_type": "code",
   "execution_count": 12,
   "metadata": {},
   "outputs": [],
   "source": [
    "import pandas as pd\n",
    "import numpy as np\n",
    "import seaborn as sns\n",
    "import matplotlib.pyplot as plt\n",
    "from sklearn.preprocessing import StandardScaler\n",
    "from sklearn.model_selection import train_test_split\n",
    "from sklearn.linear_model import LogisticRegression\n",
    "from sklearn.metrics import log_loss, roc_auc_score, recall_score, precision_score, average_precision_score, f1_score, classification_report, accuracy_score, roc_curve, precision_recall_curve, confusion_matrix"
   ]
  },
  {
   "attachments": {},
   "cell_type": "markdown",
   "metadata": {},
   "source": [
    "Etape 2 : Importation et traitement des données"
   ]
  },
  {
   "cell_type": "code",
   "execution_count": 2,
   "metadata": {},
   "outputs": [],
   "source": [
    "df = pd.read_csv('new.csv')"
   ]
  },
  {
   "cell_type": "code",
   "execution_count": 3,
   "metadata": {},
   "outputs": [
    {
     "data": {
      "text/plain": [
       "Index(['matricule', 'first_name', 'last_name', 'date_naiss', 'gender',\n",
       "       'ministry', 'grade', 'diff_recens', 'diff_conges', 'diff_travail',\n",
       "       'actif', 'salaire', 'fraude'],\n",
       "      dtype='object')"
      ]
     },
     "execution_count": 3,
     "metadata": {},
     "output_type": "execute_result"
    }
   ],
   "source": [
    "df.columns"
   ]
  },
  {
   "attachments": {},
   "cell_type": "markdown",
   "metadata": {},
   "source": [
    "Notre attribut cible est le champs 'Fraude'"
   ]
  },
  {
   "cell_type": "code",
   "execution_count": 4,
   "metadata": {},
   "outputs": [
    {
     "data": {
      "text/html": [
       "<div>\n",
       "<style scoped>\n",
       "    .dataframe tbody tr th:only-of-type {\n",
       "        vertical-align: middle;\n",
       "    }\n",
       "\n",
       "    .dataframe tbody tr th {\n",
       "        vertical-align: top;\n",
       "    }\n",
       "\n",
       "    .dataframe thead th {\n",
       "        text-align: right;\n",
       "    }\n",
       "</style>\n",
       "<table border=\"1\" class=\"dataframe\">\n",
       "  <thead>\n",
       "    <tr style=\"text-align: right;\">\n",
       "      <th></th>\n",
       "      <th>matricule</th>\n",
       "      <th>first_name</th>\n",
       "      <th>last_name</th>\n",
       "      <th>date_naiss</th>\n",
       "      <th>gender</th>\n",
       "      <th>ministry</th>\n",
       "      <th>grade</th>\n",
       "      <th>diff_recens</th>\n",
       "      <th>diff_conges</th>\n",
       "      <th>diff_travail</th>\n",
       "      <th>actif</th>\n",
       "      <th>salaire</th>\n",
       "      <th>fraude</th>\n",
       "    </tr>\n",
       "  </thead>\n",
       "  <tbody>\n",
       "    <tr>\n",
       "      <th>0</th>\n",
       "      <td>596611-N</td>\n",
       "      <td>Geneva</td>\n",
       "      <td>Zeale</td>\n",
       "      <td>1/14/1983</td>\n",
       "      <td>Polygender</td>\n",
       "      <td>MINSUP</td>\n",
       "      <td>D</td>\n",
       "      <td>11704170</td>\n",
       "      <td>926852</td>\n",
       "      <td>936804214</td>\n",
       "      <td>0</td>\n",
       "      <td>55882</td>\n",
       "      <td>fraude</td>\n",
       "    </tr>\n",
       "    <tr>\n",
       "      <th>1</th>\n",
       "      <td>100483-M</td>\n",
       "      <td>Bernadina</td>\n",
       "      <td>Aveling</td>\n",
       "      <td>3/30/1986</td>\n",
       "      <td>Female</td>\n",
       "      <td>MINREX</td>\n",
       "      <td>B</td>\n",
       "      <td>5629471</td>\n",
       "      <td>4017514</td>\n",
       "      <td>27910509</td>\n",
       "      <td>0</td>\n",
       "      <td>183392</td>\n",
       "      <td>fraude</td>\n",
       "    </tr>\n",
       "    <tr>\n",
       "      <th>2</th>\n",
       "      <td>365372-Y</td>\n",
       "      <td>Edithe</td>\n",
       "      <td>Morcombe</td>\n",
       "      <td>5/27/1973</td>\n",
       "      <td>Female</td>\n",
       "      <td>MINSEC</td>\n",
       "      <td>A</td>\n",
       "      <td>27025341</td>\n",
       "      <td>18350</td>\n",
       "      <td>1756832317</td>\n",
       "      <td>1</td>\n",
       "      <td>289321</td>\n",
       "      <td>fraude</td>\n",
       "    </tr>\n",
       "    <tr>\n",
       "      <th>3</th>\n",
       "      <td>321101-U</td>\n",
       "      <td>Sherri</td>\n",
       "      <td>Varney</td>\n",
       "      <td>6/27/1970</td>\n",
       "      <td>Female</td>\n",
       "      <td>MINCOM</td>\n",
       "      <td>A</td>\n",
       "      <td>22684335</td>\n",
       "      <td>1126557</td>\n",
       "      <td>1341097577</td>\n",
       "      <td>1</td>\n",
       "      <td>298163</td>\n",
       "      <td>fraude</td>\n",
       "    </tr>\n",
       "    <tr>\n",
       "      <th>4</th>\n",
       "      <td>543502-Q</td>\n",
       "      <td>Kane</td>\n",
       "      <td>Mitchenson</td>\n",
       "      <td>9/28/1986</td>\n",
       "      <td>Male</td>\n",
       "      <td>MINEDUB</td>\n",
       "      <td>B</td>\n",
       "      <td>23523844</td>\n",
       "      <td>422528</td>\n",
       "      <td>857325794</td>\n",
       "      <td>1</td>\n",
       "      <td>163498</td>\n",
       "      <td>fraude</td>\n",
       "    </tr>\n",
       "  </tbody>\n",
       "</table>\n",
       "</div>"
      ],
      "text/plain": [
       "  matricule first_name   last_name date_naiss      gender ministry grade   \n",
       "0  596611-N     Geneva       Zeale  1/14/1983  Polygender   MINSUP     D  \\\n",
       "1  100483-M  Bernadina     Aveling  3/30/1986      Female   MINREX     B   \n",
       "2  365372-Y     Edithe    Morcombe  5/27/1973      Female   MINSEC     A   \n",
       "3  321101-U     Sherri      Varney  6/27/1970      Female   MINCOM     A   \n",
       "4  543502-Q       Kane  Mitchenson  9/28/1986        Male  MINEDUB     B   \n",
       "\n",
       "   diff_recens  diff_conges  diff_travail  actif  salaire  fraude  \n",
       "0     11704170       926852     936804214      0    55882  fraude  \n",
       "1      5629471      4017514      27910509      0   183392  fraude  \n",
       "2     27025341        18350    1756832317      1   289321  fraude  \n",
       "3     22684335      1126557    1341097577      1   298163  fraude  \n",
       "4     23523844       422528     857325794      1   163498  fraude  "
      ]
     },
     "execution_count": 4,
     "metadata": {},
     "output_type": "execute_result"
    }
   ],
   "source": [
    "df.head()"
   ]
  },
  {
   "cell_type": "code",
   "execution_count": 5,
   "metadata": {},
   "outputs": [
    {
     "data": {
      "text/plain": [
       "fraude\n",
       "fraude        3153\n",
       "pas fraude    2847\n",
       "Name: count, dtype: int64"
      ]
     },
     "execution_count": 5,
     "metadata": {},
     "output_type": "execute_result"
    }
   ],
   "source": [
    "# Comptons les différentes valeurs presentes dans le champs 'Fraude'\n",
    "df['fraude'].value_counts() "
   ]
  },
  {
   "cell_type": "code",
   "execution_count": 6,
   "metadata": {},
   "outputs": [
    {
     "data": {
      "text/plain": [
       "<Axes: xlabel='fraude', ylabel='count'>"
      ]
     },
     "execution_count": 6,
     "metadata": {},
     "output_type": "execute_result"
    },
    {
     "data": {
      "image/png": "[encoded data removed]",
      "text/plain": [
       "<Figure size 640x480 with 1 Axes>"
      ]
     },
     "metadata": {},
     "output_type": "display_data"
    }
   ],
   "source": [
    "#visualisation du rapport entre nos deux classes de la cible\n",
    "sns.countplot(x='fraude', data=df) "
   ]
  },
  {
   "cell_type": "code",
   "execution_count": 8,
   "metadata": {},
   "outputs": [
    {
     "data": {
      "text/plain": [
       "<Axes: xlabel='fraude', ylabel='salaire'>"
      ]
     },
     "execution_count": 8,
     "metadata": {},
     "output_type": "execute_result"
    },
    {
     "data": {
      "image/png": "[encoded data removed]",
      "text/plain": [
       "<Figure size 640x480 with 1 Axes>"
      ]
     },
     "metadata": {},
     "output_type": "display_data"
    }
   ],
   "source": [
    "# Boîte à moustache pour la dispersion des données\n",
    "sns.boxplot(x='fraude', y=\"salaire\", data=df)"
   ]
  },
  {
   "cell_type": "code",
   "execution_count": 9,
   "metadata": {},
   "outputs": [
    {
     "name": "stdout",
     "output_type": "stream",
     "text": [
      "<class 'pandas.core.frame.DataFrame'>\n",
      "RangeIndex: 6000 entries, 0 to 5999\n",
      "Data columns (total 13 columns):\n",
      " #   Column        Non-Null Count  Dtype \n",
      "---  ------        --------------  ----- \n",
      " 0   matricule     6000 non-null   object\n",
      " 1   first_name    6000 non-null   object\n",
      " 2   last_name     6000 non-null   object\n",
      " 3   date_naiss    6000 non-null   object\n",
      " 4   gender        6000 non-null   object\n",
      " 5   ministry      6000 non-null   object\n",
      " 6   grade         6000 non-null   object\n",
      " 7   diff_recens   6000 non-null   int64 \n",
      " 8   diff_conges   6000 non-null   int64 \n",
      " 9   diff_travail  6000 non-null   int64 \n",
      " 10  actif         6000 non-null   int64 \n",
      " 11  salaire       6000 non-null   int64 \n",
      " 12  fraude        6000 non-null   object\n",
      "dtypes: int64(5), object(8)\n",
      "memory usage: 609.5+ KB\n"
     ]
    }
   ],
   "source": [
    "# Informations sur les attributs\n",
    "df.info()"
   ]
  },
  {
   "cell_type": "code",
   "execution_count": 10,
   "metadata": {},
   "outputs": [
    {
     "data": {
      "text/plain": [
       "<Axes: >"
      ]
     },
     "execution_count": 10,
     "metadata": {},
     "output_type": "execute_result"
    },
    {
     "data": {
      "image/png": "[encoded data removed]",
      "text/plain": [
       "<Figure size 640x480 with 1 Axes>"
      ]
     },
     "metadata": {},
     "output_type": "display_data"
    }
   ],
   "source": [
    "# Vérification des valeurs manquantes\n",
    "sns.heatmap(df.isnull(), cbar=False)"
   ]
  },
  {
   "attachments": {},
   "cell_type": "markdown",
   "metadata": {},
   "source": [
    "Etape 3 : Transformation des variables catégorielles en variables fictives"
   ]
  },
  {
   "attachments": {},
   "cell_type": "markdown",
   "metadata": {},
   "source": [
    "Ici, chaque valeurs de champs important va avoir une colonne et si à un client correspond une valeur, alors il aura True(1) et False(0) sinon.  "
   ]
  },
  {
   "attachments": {},
   "cell_type": "markdown",
   "metadata": {},
   "source": [
    "Comptons et affichons les occurences de chaques champs importats pour la prédiction (grade, gender, actif)"
   ]
  },
  {
   "cell_type": "code",
   "execution_count": 14,
   "metadata": {},
   "outputs": [
    {
     "data": {
      "text/plain": [
       "gender\n",
       "Male           2730\n",
       "Female         2686\n",
       "Bigender        114\n",
       "Genderfluid     113\n",
       "Genderqueer      99\n",
       "Non-binary       90\n",
       "Agender          87\n",
       "Polygender       81\n",
       "Name: count, dtype: int64"
      ]
     },
     "execution_count": 14,
     "metadata": {},
     "output_type": "execute_result"
    }
   ],
   "source": [
    "df['gender'].value_counts(dropna=False) "
   ]
  },
  {
   "cell_type": "code",
   "execution_count": 15,
   "metadata": {},
   "outputs": [
    {
     "data": {
      "text/plain": [
       "grade\n",
       "C    1545\n",
       "D    1495\n",
       "B    1493\n",
       "A    1467\n",
       "Name: count, dtype: int64"
      ]
     },
     "execution_count": 15,
     "metadata": {},
     "output_type": "execute_result"
    }
   ],
   "source": [
    "df['grade'].value_counts(dropna=False) "
   ]
  },
  {
   "cell_type": "code",
   "execution_count": 16,
   "metadata": {},
   "outputs": [
    {
     "data": {
      "text/plain": [
       "actif\n",
       "1    4011\n",
       "0    1989\n",
       "Name: count, dtype: int64"
      ]
     },
     "execution_count": 16,
     "metadata": {},
     "output_type": "execute_result"
    }
   ],
   "source": [
    "df['actif'].value_counts(dropna=False) "
   ]
  },
  {
   "attachments": {},
   "cell_type": "markdown",
   "metadata": {},
   "source": [
    "Créons des variables fictives pour des attributs pertinents"
   ]
  },
  {
   "cell_type": "code",
   "execution_count": 17,
   "metadata": {},
   "outputs": [],
   "source": [
    "# Création des minis dataframes des variables fictives\n",
    "Gender_data = pd.get_dummies(df['gender'], drop_first=True)\n",
    "Grade_data = pd.get_dummies(df['grade'], drop_first=True)\n",
    "Actif_data = pd.get_dummies(df['actif'], drop_first=True)"
   ]
  },
  {
   "cell_type": "code",
   "execution_count": 18,
   "metadata": {},
   "outputs": [],
   "source": [
    "# Créons une copie de notre dataset pour la suite\n",
    "clean = df.copy()"
   ]
  },
  {
   "cell_type": "code",
   "execution_count": 19,
   "metadata": {},
   "outputs": [],
   "source": [
    "#Supression des colonnes catégorielles que nous n'utiliserons pas\n",
    "clean.drop(['matricule', 'first_name', 'last_name', 'date_naiss', 'gender',\n",
    "       'ministry', 'grade', 'actif'], axis=1, inplace = True)"
   ]
  },
  {
   "cell_type": "code",
   "execution_count": 20,
   "metadata": {},
   "outputs": [
    {
     "data": {
      "text/html": [
       "<div>\n",
       "<style scoped>\n",
       "    .dataframe tbody tr th:only-of-type {\n",
       "        vertical-align: middle;\n",
       "    }\n",
       "\n",
       "    .dataframe tbody tr th {\n",
       "        vertical-align: top;\n",
       "    }\n",
       "\n",
       "    .dataframe thead th {\n",
       "        text-align: right;\n",
       "    }\n",
       "</style>\n",
       "<table border=\"1\" class=\"dataframe\">\n",
       "  <thead>\n",
       "    <tr style=\"text-align: right;\">\n",
       "      <th></th>\n",
       "      <th>diff_recens</th>\n",
       "      <th>diff_conges</th>\n",
       "      <th>diff_travail</th>\n",
       "      <th>salaire</th>\n",
       "      <th>fraude</th>\n",
       "    </tr>\n",
       "  </thead>\n",
       "  <tbody>\n",
       "    <tr>\n",
       "      <th>0</th>\n",
       "      <td>11704170</td>\n",
       "      <td>926852</td>\n",
       "      <td>936804214</td>\n",
       "      <td>55882</td>\n",
       "      <td>fraude</td>\n",
       "    </tr>\n",
       "    <tr>\n",
       "      <th>1</th>\n",
       "      <td>5629471</td>\n",
       "      <td>4017514</td>\n",
       "      <td>27910509</td>\n",
       "      <td>183392</td>\n",
       "      <td>fraude</td>\n",
       "    </tr>\n",
       "    <tr>\n",
       "      <th>2</th>\n",
       "      <td>27025341</td>\n",
       "      <td>18350</td>\n",
       "      <td>1756832317</td>\n",
       "      <td>289321</td>\n",
       "      <td>fraude</td>\n",
       "    </tr>\n",
       "    <tr>\n",
       "      <th>3</th>\n",
       "      <td>22684335</td>\n",
       "      <td>1126557</td>\n",
       "      <td>1341097577</td>\n",
       "      <td>298163</td>\n",
       "      <td>fraude</td>\n",
       "    </tr>\n",
       "    <tr>\n",
       "      <th>4</th>\n",
       "      <td>23523844</td>\n",
       "      <td>422528</td>\n",
       "      <td>857325794</td>\n",
       "      <td>163498</td>\n",
       "      <td>fraude</td>\n",
       "    </tr>\n",
       "    <tr>\n",
       "      <th>...</th>\n",
       "      <td>...</td>\n",
       "      <td>...</td>\n",
       "      <td>...</td>\n",
       "      <td>...</td>\n",
       "      <td>...</td>\n",
       "    </tr>\n",
       "    <tr>\n",
       "      <th>5995</th>\n",
       "      <td>11387940</td>\n",
       "      <td>2900045</td>\n",
       "      <td>1240911779</td>\n",
       "      <td>60576</td>\n",
       "      <td>fraude</td>\n",
       "    </tr>\n",
       "    <tr>\n",
       "      <th>5996</th>\n",
       "      <td>18158809</td>\n",
       "      <td>2119075</td>\n",
       "      <td>1151342050</td>\n",
       "      <td>136882</td>\n",
       "      <td>fraude</td>\n",
       "    </tr>\n",
       "    <tr>\n",
       "      <th>5997</th>\n",
       "      <td>17001798</td>\n",
       "      <td>2879610</td>\n",
       "      <td>1239354026</td>\n",
       "      <td>136294</td>\n",
       "      <td>fraude</td>\n",
       "    </tr>\n",
       "    <tr>\n",
       "      <th>5998</th>\n",
       "      <td>26378705</td>\n",
       "      <td>5730339</td>\n",
       "      <td>1768460321</td>\n",
       "      <td>178412</td>\n",
       "      <td>fraude</td>\n",
       "    </tr>\n",
       "    <tr>\n",
       "      <th>5999</th>\n",
       "      <td>23487010</td>\n",
       "      <td>4485462</td>\n",
       "      <td>1316922715</td>\n",
       "      <td>169002</td>\n",
       "      <td>fraude</td>\n",
       "    </tr>\n",
       "  </tbody>\n",
       "</table>\n",
       "<p>6000 rows × 5 columns</p>\n",
       "</div>"
      ],
      "text/plain": [
       "      diff_recens  diff_conges  diff_travail  salaire  fraude\n",
       "0        11704170       926852     936804214    55882  fraude\n",
       "1         5629471      4017514      27910509   183392  fraude\n",
       "2        27025341        18350    1756832317   289321  fraude\n",
       "3        22684335      1126557    1341097577   298163  fraude\n",
       "4        23523844       422528     857325794   163498  fraude\n",
       "...           ...          ...           ...      ...     ...\n",
       "5995     11387940      2900045    1240911779    60576  fraude\n",
       "5996     18158809      2119075    1151342050   136882  fraude\n",
       "5997     17001798      2879610    1239354026   136294  fraude\n",
       "5998     26378705      5730339    1768460321   178412  fraude\n",
       "5999     23487010      4485462    1316922715   169002  fraude\n",
       "\n",
       "[6000 rows x 5 columns]"
      ]
     },
     "execution_count": 20,
     "metadata": {},
     "output_type": "execute_result"
    }
   ],
   "source": [
    "# Affichage du dataframe\n",
    "clean"
   ]
  },
  {
   "cell_type": "code",
   "execution_count": 21,
   "metadata": {},
   "outputs": [],
   "source": [
    "# Ajoutons à notre dataframe les dataframes créés à partie des\n",
    "# colonnes gender, actif et grade\n",
    "clean = pd.concat([clean, Gender_data, Grade_data, Actif_data], axis=1)"
   ]
  },
  {
   "cell_type": "code",
   "execution_count": 22,
   "metadata": {},
   "outputs": [
    {
     "data": {
      "text/html": [
       "<div>\n",
       "<style scoped>\n",
       "    .dataframe tbody tr th:only-of-type {\n",
       "        vertical-align: middle;\n",
       "    }\n",
       "\n",
       "    .dataframe tbody tr th {\n",
       "        vertical-align: top;\n",
       "    }\n",
       "\n",
       "    .dataframe thead th {\n",
       "        text-align: right;\n",
       "    }\n",
       "</style>\n",
       "<table border=\"1\" class=\"dataframe\">\n",
       "  <thead>\n",
       "    <tr style=\"text-align: right;\">\n",
       "      <th></th>\n",
       "      <th>diff_recens</th>\n",
       "      <th>diff_conges</th>\n",
       "      <th>diff_travail</th>\n",
       "      <th>salaire</th>\n",
       "      <th>fraude</th>\n",
       "      <th>Bigender</th>\n",
       "      <th>Female</th>\n",
       "      <th>Genderfluid</th>\n",
       "      <th>Genderqueer</th>\n",
       "      <th>Male</th>\n",
       "      <th>Non-binary</th>\n",
       "      <th>Polygender</th>\n",
       "      <th>B</th>\n",
       "      <th>C</th>\n",
       "      <th>D</th>\n",
       "      <th>1</th>\n",
       "    </tr>\n",
       "  </thead>\n",
       "  <tbody>\n",
       "    <tr>\n",
       "      <th>0</th>\n",
       "      <td>11704170</td>\n",
       "      <td>926852</td>\n",
       "      <td>936804214</td>\n",
       "      <td>55882</td>\n",
       "      <td>fraude</td>\n",
       "      <td>False</td>\n",
       "      <td>False</td>\n",
       "      <td>False</td>\n",
       "      <td>False</td>\n",
       "      <td>False</td>\n",
       "      <td>False</td>\n",
       "      <td>True</td>\n",
       "      <td>False</td>\n",
       "      <td>False</td>\n",
       "      <td>True</td>\n",
       "      <td>False</td>\n",
       "    </tr>\n",
       "    <tr>\n",
       "      <th>1</th>\n",
       "      <td>5629471</td>\n",
       "      <td>4017514</td>\n",
       "      <td>27910509</td>\n",
       "      <td>183392</td>\n",
       "      <td>fraude</td>\n",
       "      <td>False</td>\n",
       "      <td>True</td>\n",
       "      <td>False</td>\n",
       "      <td>False</td>\n",
       "      <td>False</td>\n",
       "      <td>False</td>\n",
       "      <td>False</td>\n",
       "      <td>True</td>\n",
       "      <td>False</td>\n",
       "      <td>False</td>\n",
       "      <td>False</td>\n",
       "    </tr>\n",
       "    <tr>\n",
       "      <th>2</th>\n",
       "      <td>27025341</td>\n",
       "      <td>18350</td>\n",
       "      <td>1756832317</td>\n",
       "      <td>289321</td>\n",
       "      <td>fraude</td>\n",
       "      <td>False</td>\n",
       "      <td>True</td>\n",
       "      <td>False</td>\n",
       "      <td>False</td>\n",
       "      <td>False</td>\n",
       "      <td>False</td>\n",
       "      <td>False</td>\n",
       "      <td>False</td>\n",
       "      <td>False</td>\n",
       "      <td>False</td>\n",
       "      <td>True</td>\n",
       "    </tr>\n",
       "    <tr>\n",
       "      <th>3</th>\n",
       "      <td>22684335</td>\n",
       "      <td>1126557</td>\n",
       "      <td>1341097577</td>\n",
       "      <td>298163</td>\n",
       "      <td>fraude</td>\n",
       "      <td>False</td>\n",
       "      <td>True</td>\n",
       "      <td>False</td>\n",
       "      <td>False</td>\n",
       "      <td>False</td>\n",
       "      <td>False</td>\n",
       "      <td>False</td>\n",
       "      <td>False</td>\n",
       "      <td>False</td>\n",
       "      <td>False</td>\n",
       "      <td>True</td>\n",
       "    </tr>\n",
       "    <tr>\n",
       "      <th>4</th>\n",
       "      <td>23523844</td>\n",
       "      <td>422528</td>\n",
       "      <td>857325794</td>\n",
       "      <td>163498</td>\n",
       "      <td>fraude</td>\n",
       "      <td>False</td>\n",
       "      <td>False</td>\n",
       "      <td>False</td>\n",
       "      <td>False</td>\n",
       "      <td>True</td>\n",
       "      <td>False</td>\n",
       "      <td>False</td>\n",
       "      <td>True</td>\n",
       "      <td>False</td>\n",
       "      <td>False</td>\n",
       "      <td>True</td>\n",
       "    </tr>\n",
       "    <tr>\n",
       "      <th>...</th>\n",
       "      <td>...</td>\n",
       "      <td>...</td>\n",
       "      <td>...</td>\n",
       "      <td>...</td>\n",
       "      <td>...</td>\n",
       "      <td>...</td>\n",
       "      <td>...</td>\n",
       "      <td>...</td>\n",
       "      <td>...</td>\n",
       "      <td>...</td>\n",
       "      <td>...</td>\n",
       "      <td>...</td>\n",
       "      <td>...</td>\n",
       "      <td>...</td>\n",
       "      <td>...</td>\n",
       "      <td>...</td>\n",
       "    </tr>\n",
       "    <tr>\n",
       "      <th>5995</th>\n",
       "      <td>11387940</td>\n",
       "      <td>2900045</td>\n",
       "      <td>1240911779</td>\n",
       "      <td>60576</td>\n",
       "      <td>fraude</td>\n",
       "      <td>False</td>\n",
       "      <td>True</td>\n",
       "      <td>False</td>\n",
       "      <td>False</td>\n",
       "      <td>False</td>\n",
       "      <td>False</td>\n",
       "      <td>False</td>\n",
       "      <td>False</td>\n",
       "      <td>False</td>\n",
       "      <td>True</td>\n",
       "      <td>True</td>\n",
       "    </tr>\n",
       "    <tr>\n",
       "      <th>5996</th>\n",
       "      <td>18158809</td>\n",
       "      <td>2119075</td>\n",
       "      <td>1151342050</td>\n",
       "      <td>136882</td>\n",
       "      <td>fraude</td>\n",
       "      <td>False</td>\n",
       "      <td>True</td>\n",
       "      <td>False</td>\n",
       "      <td>False</td>\n",
       "      <td>False</td>\n",
       "      <td>False</td>\n",
       "      <td>False</td>\n",
       "      <td>False</td>\n",
       "      <td>True</td>\n",
       "      <td>False</td>\n",
       "      <td>False</td>\n",
       "    </tr>\n",
       "    <tr>\n",
       "      <th>5997</th>\n",
       "      <td>17001798</td>\n",
       "      <td>2879610</td>\n",
       "      <td>1239354026</td>\n",
       "      <td>136294</td>\n",
       "      <td>fraude</td>\n",
       "      <td>False</td>\n",
       "      <td>True</td>\n",
       "      <td>False</td>\n",
       "      <td>False</td>\n",
       "      <td>False</td>\n",
       "      <td>False</td>\n",
       "      <td>False</td>\n",
       "      <td>False</td>\n",
       "      <td>True</td>\n",
       "      <td>False</td>\n",
       "      <td>False</td>\n",
       "    </tr>\n",
       "    <tr>\n",
       "      <th>5998</th>\n",
       "      <td>26378705</td>\n",
       "      <td>5730339</td>\n",
       "      <td>1768460321</td>\n",
       "      <td>178412</td>\n",
       "      <td>fraude</td>\n",
       "      <td>False</td>\n",
       "      <td>True</td>\n",
       "      <td>False</td>\n",
       "      <td>False</td>\n",
       "      <td>False</td>\n",
       "      <td>False</td>\n",
       "      <td>False</td>\n",
       "      <td>True</td>\n",
       "      <td>False</td>\n",
       "      <td>False</td>\n",
       "      <td>True</td>\n",
       "    </tr>\n",
       "    <tr>\n",
       "      <th>5999</th>\n",
       "      <td>23487010</td>\n",
       "      <td>4485462</td>\n",
       "      <td>1316922715</td>\n",
       "      <td>169002</td>\n",
       "      <td>fraude</td>\n",
       "      <td>False</td>\n",
       "      <td>True</td>\n",
       "      <td>False</td>\n",
       "      <td>False</td>\n",
       "      <td>False</td>\n",
       "      <td>False</td>\n",
       "      <td>False</td>\n",
       "      <td>True</td>\n",
       "      <td>False</td>\n",
       "      <td>False</td>\n",
       "      <td>False</td>\n",
       "    </tr>\n",
       "  </tbody>\n",
       "</table>\n",
       "<p>6000 rows × 16 columns</p>\n",
       "</div>"
      ],
      "text/plain": [
       "      diff_recens  diff_conges  diff_travail  salaire  fraude  Bigender   \n",
       "0        11704170       926852     936804214    55882  fraude     False  \\\n",
       "1         5629471      4017514      27910509   183392  fraude     False   \n",
       "2        27025341        18350    1756832317   289321  fraude     False   \n",
       "3        22684335      1126557    1341097577   298163  fraude     False   \n",
       "4        23523844       422528     857325794   163498  fraude     False   \n",
       "...           ...          ...           ...      ...     ...       ...   \n",
       "5995     11387940      2900045    1240911779    60576  fraude     False   \n",
       "5996     18158809      2119075    1151342050   136882  fraude     False   \n",
       "5997     17001798      2879610    1239354026   136294  fraude     False   \n",
       "5998     26378705      5730339    1768460321   178412  fraude     False   \n",
       "5999     23487010      4485462    1316922715   169002  fraude     False   \n",
       "\n",
       "      Female  Genderfluid  Genderqueer   Male  Non-binary  Polygender      B   \n",
       "0      False        False        False  False       False        True  False  \\\n",
       "1       True        False        False  False       False       False   True   \n",
       "2       True        False        False  False       False       False  False   \n",
       "3       True        False        False  False       False       False  False   \n",
       "4      False        False        False   True       False       False   True   \n",
       "...      ...          ...          ...    ...         ...         ...    ...   \n",
       "5995    True        False        False  False       False       False  False   \n",
       "5996    True        False        False  False       False       False  False   \n",
       "5997    True        False        False  False       False       False  False   \n",
       "5998    True        False        False  False       False       False   True   \n",
       "5999    True        False        False  False       False       False   True   \n",
       "\n",
       "          C      D      1  \n",
       "0     False   True  False  \n",
       "1     False  False  False  \n",
       "2     False  False   True  \n",
       "3     False  False   True  \n",
       "4     False  False   True  \n",
       "...     ...    ...    ...  \n",
       "5995  False   True   True  \n",
       "5996   True  False  False  \n",
       "5997   True  False  False  \n",
       "5998  False  False   True  \n",
       "5999  False  False  False  \n",
       "\n",
       "[6000 rows x 16 columns]"
      ]
     },
     "execution_count": 22,
     "metadata": {},
     "output_type": "execute_result"
    }
   ],
   "source": [
    "# Affichons le nouveau dataframe\n",
    "clean"
   ]
  },
  {
   "cell_type": "code",
   "execution_count": 25,
   "metadata": {},
   "outputs": [],
   "source": [
    "df = df.rename(columns={1:'1'})"
   ]
  },
  {
   "cell_type": "code",
   "execution_count": 27,
   "metadata": {},
   "outputs": [
    {
     "name": "stdout",
     "output_type": "stream",
     "text": [
      "['diff_recens', 'diff_conges', 'diff_travail', 'salaire']\n",
      "['Polygender', 1, 'Genderfluid', 'Female', 'Non-binary', 'D', 'Genderqueer', 'B', 'Male', 'C', 'Bigender']\n"
     ]
    }
   ],
   "source": [
    "# Séparation des champs numériques des champs catégoriels\n",
    "numeric_cols = ['diff_recens', 'diff_conges', 'diff_travail', 'salaire']\n",
    "cat_cols = list(set(clean.columns) - set(numeric_cols) - {'fraude'}) #Une liste formée des attributs non numériques et sans l'attribut cible\n",
    "#cat_cols.sort() # Trie de la liste\n",
    "\n",
    "print(numeric_cols)\n",
    "print(cat_cols)"
   ]
  },
  {
   "attachments": {},
   "cell_type": "markdown",
   "metadata": {},
   "source": [
    "Etape 4: Séparation des ensembles des données"
   ]
  },
  {
   "cell_type": "code",
   "execution_count": 28,
   "metadata": {},
   "outputs": [
    {
     "name": "stdout",
     "output_type": "stream",
     "text": [
      "(4800, 16)\n",
      "(1200, 16)\n",
      "\n",
      "fraude\n",
      "fraude        0.525417\n",
      "pas fraude    0.474583\n",
      "Name: proportion, dtype: float64\n",
      "\n",
      "fraude\n",
      "fraude        0.525833\n",
      "pas fraude    0.474167\n",
      "Name: proportion, dtype: float64\n"
     ]
    }
   ],
   "source": [
    "random_seed = 888\n",
    "\n",
    "# Utilisons 20% des données comme données de tests\n",
    "df_train, df_test = train_test_split(clean, test_size=0.2, random_state=random_seed, stratify=clean['fraude'])\n",
    "\n",
    "\n",
    "print(df_train.shape)\n",
    "print(df_test.shape)\n",
    "print()\n",
    "print(df_train['fraude'].value_counts(normalize=True))\n",
    "print()\n",
    "print(df_test['fraude'].value_counts(normalize=True))"
   ]
  },
  {
   "attachments": {},
   "cell_type": "markdown",
   "metadata": {},
   "source": [
    "Etape 5: Transformation des variables numériques : mise à l'échelle"
   ]
  },
  {
   "cell_type": "code",
   "execution_count": 30,
   "metadata": {},
   "outputs": [],
   "source": [
    "scaler = StandardScaler()\n",
    "#Faisons la mise à l'échelle des variables numériques\n",
    "# Ajustons les grace à l'écart-type\n",
    "scaler.fit(df_train[numeric_cols]) \n",
    "\n",
    "def get_features_and_target_arrays(df, numeric_cols, cat_cols, scaler):\n",
    "    X_numeric_scaled = scaler.transform(df[numeric_cols]) # Tableau de normalisation des attributs numériques\n",
    "    #print(X_numeric_scaled)\n",
    "    X_categorical = df[cat_cols].to_numpy() # Transformation des attributs catégoriels en tableau numpy\n",
    "    #print(X_categorical)\n",
    "    X = np.hstack((X_categorical, X_numeric_scaled)) # Fusion des deux tableaux\n",
    "    y = df['fraude'] # Affectation de la colonne cible\n",
    "    return X, y\n",
    "\n",
    "# y_target = colonne cible\n",
    "X, y_target = get_features_and_target_arrays(df_train, numeric_cols, cat_cols, scaler)"
   ]
  },
  {
   "attachments": {},
   "cell_type": "markdown",
   "metadata": {},
   "source": [
    "Etape 6 : Ajustement du modèle de régression logistique"
   ]
  },
  {
   "cell_type": "code",
   "execution_count": 31,
   "metadata": {},
   "outputs": [
    {
     "data": {
      "text/html": [
       "<style>#sk-container-id-1 {color: black;background-color: white;}#sk-container-id-1 pre{padding: 0;}#sk-container-id-1 div.sk-toggleable {background-color: white;}#sk-container-id-1 label.sk-toggleable__label {cursor: pointer;display: block;width: 100%;margin-bottom: 0;padding: 0.3em;box-sizing: border-box;text-align: center;}#sk-container-id-1 label.sk-toggleable__label-arrow:before {content: \"▸\";float: left;margin-right: 0.25em;color: #696969;}#sk-container-id-1 label.sk-toggleable__label-arrow:hover:before {color: black;}#sk-container-id-1 div.sk-estimator:hover label.sk-toggleable__label-arrow:before {color: black;}#sk-container-id-1 div.sk-toggleable__content {max-height: 0;max-width: 0;overflow: hidden;text-align: left;background-color: #f0f8ff;}#sk-container-id-1 div.sk-toggleable__content pre {margin: 0.2em;color: black;border-radius: 0.25em;background-color: #f0f8ff;}#sk-container-id-1 input.sk-toggleable__control:checked~div.sk-toggleable__content {max-height: 200px;max-width: 100%;overflow: auto;}#sk-container-id-1 input.sk-toggleable__control:checked~label.sk-toggleable__label-arrow:before {content: \"▾\";}#sk-container-id-1 div.sk-estimator input.sk-toggleable__control:checked~label.sk-toggleable__label {background-color: #d4ebff;}#sk-container-id-1 div.sk-label input.sk-toggleable__control:checked~label.sk-toggleable__label {background-color: #d4ebff;}#sk-container-id-1 input.sk-hidden--visually {border: 0;clip: rect(1px 1px 1px 1px);clip: rect(1px, 1px, 1px, 1px);height: 1px;margin: -1px;overflow: hidden;padding: 0;position: absolute;width: 1px;}#sk-container-id-1 div.sk-estimator {font-family: monospace;background-color: #f0f8ff;border: 1px dotted black;border-radius: 0.25em;box-sizing: border-box;margin-bottom: 0.5em;}#sk-container-id-1 div.sk-estimator:hover {background-color: #d4ebff;}#sk-container-id-1 div.sk-parallel-item::after {content: \"\";width: 100%;border-bottom: 1px solid gray;flex-grow: 1;}#sk-container-id-1 div.sk-label:hover label.sk-toggleable__label {background-color: #d4ebff;}#sk-container-id-1 div.sk-serial::before {content: \"\";position: absolute;border-left: 1px solid gray;box-sizing: border-box;top: 0;bottom: 0;left: 50%;z-index: 0;}#sk-container-id-1 div.sk-serial {display: flex;flex-direction: column;align-items: center;background-color: white;padding-right: 0.2em;padding-left: 0.2em;position: relative;}#sk-container-id-1 div.sk-item {position: relative;z-index: 1;}#sk-container-id-1 div.sk-parallel {display: flex;align-items: stretch;justify-content: center;background-color: white;position: relative;}#sk-container-id-1 div.sk-item::before, #sk-container-id-1 div.sk-parallel-item::before {content: \"\";position: absolute;border-left: 1px solid gray;box-sizing: border-box;top: 0;bottom: 0;left: 50%;z-index: -1;}#sk-container-id-1 div.sk-parallel-item {display: flex;flex-direction: column;z-index: 1;position: relative;background-color: white;}#sk-container-id-1 div.sk-parallel-item:first-child::after {align-self: flex-end;width: 50%;}#sk-container-id-1 div.sk-parallel-item:last-child::after {align-self: flex-start;width: 50%;}#sk-container-id-1 div.sk-parallel-item:only-child::after {width: 0;}#sk-container-id-1 div.sk-dashed-wrapped {border: 1px dashed gray;margin: 0 0.4em 0.5em 0.4em;box-sizing: border-box;padding-bottom: 0.4em;background-color: white;}#sk-container-id-1 div.sk-label label {font-family: monospace;font-weight: bold;display: inline-block;line-height: 1.2em;}#sk-container-id-1 div.sk-label-container {text-align: center;}#sk-container-id-1 div.sk-container {/* jupyter's `normalize.less` sets `[hidden] { display: none; }` but bootstrap.min.css set `[hidden] { display: none !important; }` so we also need the `!important` here to be able to override the default hidden behavior on the sphinx rendered scikit-learn.org. See: https://github.com/scikit-learn/scikit-learn/issues/21755 */display: inline-block !important;position: relative;}#sk-container-id-1 div.sk-text-repr-fallback {display: none;}</style><div id=\"sk-container-id-1\" class=\"sk-top-container\"><div class=\"sk-text-repr-fallback\"><pre>LogisticRegression()</pre><b>In a Jupyter environment, please rerun this cell to show the HTML representation or trust the notebook. <br />On GitHub, the HTML representation is unable to render, please try loading this page with nbviewer.org.</b></div><div class=\"sk-container\" hidden><div class=\"sk-item\"><div class=\"sk-estimator sk-toggleable\"><input class=\"sk-toggleable__control sk-hidden--visually\" id=\"sk-estimator-id-1\" type=\"checkbox\" checked><label for=\"sk-estimator-id-1\" class=\"sk-toggleable__label sk-toggleable__label-arrow\">LogisticRegression</label><div class=\"sk-toggleable__content\"><pre>LogisticRegression()</pre></div></div></div></div></div>"
      ],
      "text/plain": [
       "LogisticRegression()"
      ]
     },
     "execution_count": 31,
     "metadata": {},
     "output_type": "execute_result"
    }
   ],
   "source": [
    "Model = LogisticRegression() # logistic regression with no penalty term in the cost function.\n",
    "\n",
    "Model.fit(X, y_target)"
   ]
  },
  {
   "attachments": {},
   "cell_type": "markdown",
   "metadata": {},
   "source": [
    "Etape 7: Evaluation du modèle"
   ]
  },
  {
   "cell_type": "code",
   "execution_count": 32,
   "metadata": {},
   "outputs": [
    {
     "data": {
      "text/plain": [
       "5686        fraude\n",
       "648         fraude\n",
       "5595        fraude\n",
       "3056    pas fraude\n",
       "3078    pas fraude\n",
       "           ...    \n",
       "3720    pas fraude\n",
       "5672        fraude\n",
       "3827    pas fraude\n",
       "3212    pas fraude\n",
       "1745        fraude\n",
       "Name: fraude, Length: 1200, dtype: object"
      ]
     },
     "execution_count": 32,
     "metadata": {},
     "output_type": "execute_result"
    }
   ],
   "source": [
    "# Jeu de données mis à l'échelle\n",
    "X_test, y_test = get_features_and_target_arrays(df_test, numeric_cols, cat_cols, scaler)\n",
    "y_test"
   ]
  },
  {
   "cell_type": "code",
   "execution_count": 33,
   "metadata": {},
   "outputs": [],
   "source": [
    "probs = Model.predict_proba(X_test)\n",
    "prob = probs[:,1]"
   ]
  },
  {
   "cell_type": "code",
   "execution_count": 34,
   "metadata": {},
   "outputs": [],
   "source": [
    "# Fonction pour tracer la courbe ROC\n",
    "def plot_roc_curve(fper, tper):\n",
    "    plt.plot(fper, tper, color='red', label='ROC')\n",
    "    plt.plot([0, 1], [0, 1], color='green', linestyle='--')\n",
    "    plt.xlabel('False Positive Rate')\n",
    "    plt.ylabel('True Positive Rate')\n",
    "    plt.title('Courbe ROC(Receiver Operating Characteristic Curve)')\n",
    "    plt.legend()\n",
    "    plt.show()"
   ]
  },
  {
   "cell_type": "code",
   "execution_count": 37,
   "metadata": {},
   "outputs": [],
   "source": [
    "# Calcul des paramètres pour la courbe en fonction d'une des valeurs de la cible\n",
    "fper, tper, residus = roc_curve(y_test, prob, pos_label='fraude')"
   ]
  },
  {
   "cell_type": "code",
   "execution_count": 38,
   "metadata": {},
   "outputs": [
    {
     "data": {
      "image/png": "[encoded data removed]",
      "text/plain": [
       "<Figure size 640x480 with 1 Axes>"
      ]
     },
     "metadata": {},
     "output_type": "display_data"
    }
   ],
   "source": [
    "# Tracé de la courbe\n",
    "plot_roc_curve(fper, tper)"
   ]
  },
  {
   "cell_type": "code",
   "execution_count": 39,
   "metadata": {},
   "outputs": [],
   "source": [
    "# Fonction pour tracer la corbe des prévisions\n",
    "def plot_precision_recall_curve(rec, pre):\n",
    "    plt.plot(fper, tper, color='red', label='Precision')\n",
    "    plt.plot([0, 1], [0, 1], color='green', linestyle='--')\n",
    "    plt.xlabel('Recall')\n",
    "    plt.ylabel('Precision')\n",
    "    plt.title('Courbe Precision Recall Curve)')\n",
    "    plt.legend()\n",
    "    plt.show()"
   ]
  },
  {
   "cell_type": "code",
   "execution_count": 40,
   "metadata": {},
   "outputs": [],
   "source": [
    " # Prédiction du model selon les données test\n",
    "prev = Model.predict(X_test)"
   ]
  },
  {
   "cell_type": "code",
   "execution_count": null,
   "metadata": {},
   "outputs": [],
   "source": [
    "#rec, pre, residus0 = precision_recall_curve(y_test, prev, pos_label=' >50K')"
   ]
  },
  {
   "cell_type": "code",
   "execution_count": 43,
   "metadata": {},
   "outputs": [],
   "source": [
    "# Calcul des predictions test\n",
    "test_prob = Model.predict_proba(X_test)[:, 1]\n",
    "test_pred = Model.predict(X_test)"
   ]
  },
  {
   "cell_type": "code",
   "execution_count": 46,
   "metadata": {},
   "outputs": [
    {
     "name": "stdout",
     "output_type": "stream",
     "text": [
      "Log loss = 0.13255\n",
      "AUC = 0.98831\n",
      "Average Precision = 0.32788\n",
      "\n",
      "Using 0.5 as threshold:\n",
      "Accuracy = 0.94750\n",
      "Precision = 0.96405\n",
      "Recall = 0.93502\n",
      "F1 score = 0.94932\n",
      "\n",
      "Classification Report\n",
      "              precision    recall  f1-score   support\n",
      "\n",
      "      fraude       0.96      0.94      0.95       631\n",
      "  pas fraude       0.93      0.96      0.95       569\n",
      "\n",
      "    accuracy                           0.95      1200\n",
      "   macro avg       0.95      0.95      0.95      1200\n",
      "weighted avg       0.95      0.95      0.95      1200\n",
      "\n"
     ]
    }
   ],
   "source": [
    "# Affichage des différents scores\n",
    "print('Log loss = {:.5f}'.format(log_loss(y_test, test_prob)))\n",
    "print('AUC = {:.5f}'.format(roc_auc_score(y_test, test_prob)))\n",
    "print('Average Precision = {:.5f}'.format(average_precision_score(y_test, test_prob, pos_label='fraude')))\n",
    "print('\\nUsing 0.5 as threshold:')\n",
    "print('Accuracy = {:.5f}'.format(accuracy_score(y_test, test_pred)))\n",
    "print('Precision = {:.5f}'.format(precision_score(y_test, test_pred, pos_label='fraude')))\n",
    "print('Recall = {:.5f}'.format(recall_score(y_test, test_pred, pos_label='fraude')))\n",
    "print('F1 score = {:.5f}'.format(f1_score(y_test, test_pred, pos_label='fraude')))\n",
    "\n",
    "print('\\nClassification Report')\n",
    "print(classification_report(y_test, test_pred))"
   ]
  },
  {
   "cell_type": "code",
   "execution_count": 47,
   "metadata": {},
   "outputs": [],
   "source": [
    "# Confusion Matrix\n",
    "y_pred = Model.predict(X_test)\n",
    "mat_con = confusion_matrix(y_true=y_test, y_pred=y_pred)"
   ]
  },
  {
   "cell_type": "code",
   "execution_count": 48,
   "metadata": {},
   "outputs": [
    {
     "data": {
      "text/plain": [
       "Text(50.722222222222214, 0.5, 'Valeurs actuelles')"
      ]
     },
     "execution_count": 48,
     "metadata": {},
     "output_type": "execute_result"
    },
    {
     "data": {
      "image/png": "[encoded data removed]",
      "text/plain": [
       "<Figure size 640x480 with 2 Axes>"
      ]
     },
     "metadata": {},
     "output_type": "display_data"
    }
   ],
   "source": [
    "#Création d'un carré\n",
    "fx = sns.heatmap(mat_con, annot=True, cmap='turbo')\n",
    "\n",
    "fx.set_title('Matrice de Confusion')\n",
    "fx.set_xlabel('Valeurs prédictes')\n",
    "fx.set_ylabel('Valeurs actuelles')"
   ]
  },
  {
   "attachments": {},
   "cell_type": "markdown",
   "metadata": {},
   "source": [
    "Etape 8: Interprétation des résultats"
   ]
  },
  {
   "cell_type": "code",
   "execution_count": 50,
   "metadata": {},
   "outputs": [
    {
     "data": {
      "text/html": [
       "<div>\n",
       "<style scoped>\n",
       "    .dataframe tbody tr th:only-of-type {\n",
       "        vertical-align: middle;\n",
       "    }\n",
       "\n",
       "    .dataframe tbody tr th {\n",
       "        vertical-align: top;\n",
       "    }\n",
       "\n",
       "    .dataframe thead th {\n",
       "        text-align: right;\n",
       "    }\n",
       "</style>\n",
       "<table border=\"1\" class=\"dataframe\">\n",
       "  <thead>\n",
       "    <tr style=\"text-align: right;\">\n",
       "      <th></th>\n",
       "      <th>variable</th>\n",
       "      <th>coefficient</th>\n",
       "    </tr>\n",
       "  </thead>\n",
       "  <tbody>\n",
       "    <tr>\n",
       "      <th>0</th>\n",
       "      <td>intercept</td>\n",
       "      <td>-8.975793</td>\n",
       "    </tr>\n",
       "    <tr>\n",
       "      <th>1</th>\n",
       "      <td>Polygender</td>\n",
       "      <td>0.025655</td>\n",
       "    </tr>\n",
       "    <tr>\n",
       "      <th>2</th>\n",
       "      <td>1</td>\n",
       "      <td>9.525355</td>\n",
       "    </tr>\n",
       "    <tr>\n",
       "      <th>3</th>\n",
       "      <td>Genderfluid</td>\n",
       "      <td>0.537373</td>\n",
       "    </tr>\n",
       "    <tr>\n",
       "      <th>4</th>\n",
       "      <td>Female</td>\n",
       "      <td>0.126762</td>\n",
       "    </tr>\n",
       "    <tr>\n",
       "      <th>5</th>\n",
       "      <td>Non-binary</td>\n",
       "      <td>-0.218723</td>\n",
       "    </tr>\n",
       "    <tr>\n",
       "      <th>6</th>\n",
       "      <td>D</td>\n",
       "      <td>0.393480</td>\n",
       "    </tr>\n",
       "    <tr>\n",
       "      <th>7</th>\n",
       "      <td>Genderqueer</td>\n",
       "      <td>0.384053</td>\n",
       "    </tr>\n",
       "    <tr>\n",
       "      <th>8</th>\n",
       "      <td>B</td>\n",
       "      <td>0.138704</td>\n",
       "    </tr>\n",
       "    <tr>\n",
       "      <th>9</th>\n",
       "      <td>Male</td>\n",
       "      <td>0.272886</td>\n",
       "    </tr>\n",
       "    <tr>\n",
       "      <th>10</th>\n",
       "      <td>C</td>\n",
       "      <td>0.111716</td>\n",
       "    </tr>\n",
       "    <tr>\n",
       "      <th>11</th>\n",
       "      <td>Bigender</td>\n",
       "      <td>0.232981</td>\n",
       "    </tr>\n",
       "    <tr>\n",
       "      <th>12</th>\n",
       "      <td>diff_recens</td>\n",
       "      <td>-2.297313</td>\n",
       "    </tr>\n",
       "    <tr>\n",
       "      <th>13</th>\n",
       "      <td>diff_conges</td>\n",
       "      <td>-3.214904</td>\n",
       "    </tr>\n",
       "    <tr>\n",
       "      <th>14</th>\n",
       "      <td>diff_travail</td>\n",
       "      <td>-0.231950</td>\n",
       "    </tr>\n",
       "    <tr>\n",
       "      <th>15</th>\n",
       "      <td>salaire</td>\n",
       "      <td>0.131967</td>\n",
       "    </tr>\n",
       "  </tbody>\n",
       "</table>\n",
       "</div>"
      ],
      "text/plain": [
       "        variable  coefficient\n",
       "0      intercept    -8.975793\n",
       "1     Polygender     0.025655\n",
       "2              1     9.525355\n",
       "3    Genderfluid     0.537373\n",
       "4         Female     0.126762\n",
       "5     Non-binary    -0.218723\n",
       "6              D     0.393480\n",
       "7    Genderqueer     0.384053\n",
       "8              B     0.138704\n",
       "9           Male     0.272886\n",
       "10             C     0.111716\n",
       "11      Bigender     0.232981\n",
       "12   diff_recens    -2.297313\n",
       "13   diff_conges    -3.214904\n",
       "14  diff_travail    -0.231950\n",
       "15       salaire     0.131967"
      ]
     },
     "execution_count": 50,
     "metadata": {},
     "output_type": "execute_result"
    }
   ],
   "source": [
    "coefficients = np.hstack((Model.intercept_, Model.coef_[0]))\n",
    "pd.DataFrame(data={'variable': ['intercept'] + cat_cols + numeric_cols, 'coefficient': coefficients})"
   ]
  },
  {
   "cell_type": "code",
   "execution_count": 51,
   "metadata": {},
   "outputs": [
    {
     "data": {
      "text/html": [
       "<div>\n",
       "<style scoped>\n",
       "    .dataframe tbody tr th:only-of-type {\n",
       "        vertical-align: middle;\n",
       "    }\n",
       "\n",
       "    .dataframe tbody tr th {\n",
       "        vertical-align: top;\n",
       "    }\n",
       "\n",
       "    .dataframe thead th {\n",
       "        text-align: right;\n",
       "    }\n",
       "</style>\n",
       "<table border=\"1\" class=\"dataframe\">\n",
       "  <thead>\n",
       "    <tr style=\"text-align: right;\">\n",
       "      <th></th>\n",
       "      <th>variable</th>\n",
       "      <th>unit</th>\n",
       "    </tr>\n",
       "  </thead>\n",
       "  <tbody>\n",
       "    <tr>\n",
       "      <th>0</th>\n",
       "      <td>diff_recens</td>\n",
       "      <td>7.775118e+06</td>\n",
       "    </tr>\n",
       "    <tr>\n",
       "      <th>1</th>\n",
       "      <td>diff_conges</td>\n",
       "      <td>1.608008e+06</td>\n",
       "    </tr>\n",
       "    <tr>\n",
       "      <th>2</th>\n",
       "      <td>diff_travail</td>\n",
       "      <td>5.671431e+08</td>\n",
       "    </tr>\n",
       "    <tr>\n",
       "      <th>3</th>\n",
       "      <td>salaire</td>\n",
       "      <td>8.434339e+04</td>\n",
       "    </tr>\n",
       "  </tbody>\n",
       "</table>\n",
       "</div>"
      ],
      "text/plain": [
       "       variable          unit\n",
       "0   diff_recens  7.775118e+06\n",
       "1   diff_conges  1.608008e+06\n",
       "2  diff_travail  5.671431e+08\n",
       "3       salaire  8.434339e+04"
      ]
     },
     "execution_count": 51,
     "metadata": {},
     "output_type": "execute_result"
    }
   ],
   "source": [
    "# Calcul de l'écart-type de chaque variable numériques\n",
    "pd.DataFrame(data={'variable': numeric_cols, 'unit': np.sqrt(scaler.var_)}) "
   ]
  },
  {
   "attachments": {},
   "cell_type": "markdown",
   "metadata": {},
   "source": [
    "Interprétations:"
   ]
  }
 ],
 "metadata": {
  "kernelspec": {
   "display_name": "Python 3",
   "language": "python",
   "name": "python3"
  },
  "language_info": {
   "codemirror_mode": {
    "name": "ipython",
    "version": 3
   },
   "file_extension": ".py",
   "mimetype": "text/x-python",
   "name": "python",
   "nbconvert_exporter": "python",
   "pygments_lexer": "ipython3",
   "version": "3.10.6"
  },
  "orig_nbformat": 4
 },
 "nbformat": 4,
 "nbformat_minor": 2
}
